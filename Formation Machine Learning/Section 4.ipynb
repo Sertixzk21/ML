{
 "cells": [
  {
   "cell_type": "markdown",
   "metadata": {},
   "source": [
    "# TEST QUALITE PREDICTION"
   ]
  },
  {
   "cell_type": "code",
   "execution_count": 1,
   "metadata": {},
   "outputs": [],
   "source": [
    "import pandas as pd\n",
    "import numpy as np\n",
    "pd.options.mode.chained_assignment = None\n",
    "np.random.seed(1)\n",
    "\n",
    "paris_listings = pd.read_csv(\"paris_airbnb.csv\")\n",
    "paris_listings = paris_listings.loc[np.random.permutation(len(paris_listings))]\n",
    "stripped_commas = paris_listings['price'].str.replace(\",\",\"\")\n",
    "stripped_dollars  = stripped_commas.str.replace(\"$\",\"\")\n",
    "paris_listings['price'] = stripped_dollars.astype('float')\n",
    "train_df = paris_listings.iloc[0:6000]\n",
    "test_df = paris_listings.iloc[6000:]\n",
    "\n",
    "def predict_price(new_listing):\n",
    "    temp_df = train_df.copy()\n",
    "    temp_df['distance'] = temp_df['accommodates'].apply(lambda x: np.abs(x - new_listing))\n",
    "    temp_df = temp_df.sort_values('distance')\n",
    "    nearest_neighbor_prices = temp_df.iloc[0:5]['price']\n",
    "    predicted_price = nearest_neighbor_prices.mean()\n",
    "    return(predicted_price)\n",
    "\n",
    "test_df['predicted_price'] = test_df['accommodates'].apply(lambda x: predict_price(x))"
   ]
  },
  {
   "cell_type": "markdown",
   "metadata": {},
   "source": [
    "# LES METRIQUES D'ERREUR"
   ]
  },
  {
   "cell_type": "code",
   "execution_count": 2,
   "metadata": {},
   "outputs": [
    {
     "data": {
      "text/html": [
       "<div>\n",
       "<style scoped>\n",
       "    .dataframe tbody tr th:only-of-type {\n",
       "        vertical-align: middle;\n",
       "    }\n",
       "\n",
       "    .dataframe tbody tr th {\n",
       "        vertical-align: top;\n",
       "    }\n",
       "\n",
       "    .dataframe thead th {\n",
       "        text-align: right;\n",
       "    }\n",
       "</style>\n",
       "<table border=\"1\" class=\"dataframe\">\n",
       "  <thead>\n",
       "    <tr style=\"text-align: right;\">\n",
       "      <th></th>\n",
       "      <th>host_response_rate</th>\n",
       "      <th>host_acceptance_rate</th>\n",
       "      <th>host_listings_count</th>\n",
       "      <th>latitude</th>\n",
       "      <th>longitude</th>\n",
       "      <th>city</th>\n",
       "      <th>zipcode</th>\n",
       "      <th>state</th>\n",
       "      <th>accommodates</th>\n",
       "      <th>room_type</th>\n",
       "      <th>bedrooms</th>\n",
       "      <th>bathrooms</th>\n",
       "      <th>beds</th>\n",
       "      <th>price</th>\n",
       "      <th>cleaning_fee</th>\n",
       "      <th>security_deposit</th>\n",
       "      <th>minimum_nights</th>\n",
       "      <th>maximum_nights</th>\n",
       "      <th>number_of_reviews</th>\n",
       "      <th>predicted_price</th>\n",
       "    </tr>\n",
       "  </thead>\n",
       "  <tbody>\n",
       "    <tr>\n",
       "      <th>4465</th>\n",
       "      <td>96%</td>\n",
       "      <td>NaN</td>\n",
       "      <td>28.0</td>\n",
       "      <td>48.89318</td>\n",
       "      <td>2.31884</td>\n",
       "      <td>Paris</td>\n",
       "      <td>75017</td>\n",
       "      <td>Paris province</td>\n",
       "      <td>2</td>\n",
       "      <td>Entire home/apt</td>\n",
       "      <td>0.0</td>\n",
       "      <td>1.0</td>\n",
       "      <td>1.0</td>\n",
       "      <td>63.0</td>\n",
       "      <td>$100.00</td>\n",
       "      <td>$400.00</td>\n",
       "      <td>14</td>\n",
       "      <td>180</td>\n",
       "      <td>61</td>\n",
       "      <td>90.4</td>\n",
       "    </tr>\n",
       "    <tr>\n",
       "      <th>3154</th>\n",
       "      <td>100%</td>\n",
       "      <td>NaN</td>\n",
       "      <td>2.0</td>\n",
       "      <td>48.85114</td>\n",
       "      <td>2.29728</td>\n",
       "      <td>Paris</td>\n",
       "      <td>75015</td>\n",
       "      <td>Île-de-France</td>\n",
       "      <td>5</td>\n",
       "      <td>Entire home/apt</td>\n",
       "      <td>1.0</td>\n",
       "      <td>1.0</td>\n",
       "      <td>4.0</td>\n",
       "      <td>120.0</td>\n",
       "      <td>$50.00</td>\n",
       "      <td>$200.00</td>\n",
       "      <td>1</td>\n",
       "      <td>120</td>\n",
       "      <td>102</td>\n",
       "      <td>176.8</td>\n",
       "    </tr>\n",
       "    <tr>\n",
       "      <th>1969</th>\n",
       "      <td>65%</td>\n",
       "      <td>NaN</td>\n",
       "      <td>93.0</td>\n",
       "      <td>48.85134</td>\n",
       "      <td>2.33359</td>\n",
       "      <td>Paris</td>\n",
       "      <td>75006</td>\n",
       "      <td>Île-de-France</td>\n",
       "      <td>3</td>\n",
       "      <td>Entire home/apt</td>\n",
       "      <td>1.0</td>\n",
       "      <td>1.0</td>\n",
       "      <td>2.0</td>\n",
       "      <td>149.0</td>\n",
       "      <td>$60.00</td>\n",
       "      <td>$600.00</td>\n",
       "      <td>30</td>\n",
       "      <td>1125</td>\n",
       "      <td>5</td>\n",
       "      <td>96.2</td>\n",
       "    </tr>\n",
       "    <tr>\n",
       "      <th>2713</th>\n",
       "      <td>NaN</td>\n",
       "      <td>NaN</td>\n",
       "      <td>1.0</td>\n",
       "      <td>48.87320</td>\n",
       "      <td>2.38649</td>\n",
       "      <td>Paris</td>\n",
       "      <td>75020</td>\n",
       "      <td>Île-de-France</td>\n",
       "      <td>4</td>\n",
       "      <td>Entire home/apt</td>\n",
       "      <td>2.0</td>\n",
       "      <td>1.0</td>\n",
       "      <td>1.0</td>\n",
       "      <td>79.0</td>\n",
       "      <td>$65.00</td>\n",
       "      <td>$299.00</td>\n",
       "      <td>2</td>\n",
       "      <td>1125</td>\n",
       "      <td>5</td>\n",
       "      <td>173.0</td>\n",
       "    </tr>\n",
       "    <tr>\n",
       "      <th>5578</th>\n",
       "      <td>100%</td>\n",
       "      <td>NaN</td>\n",
       "      <td>1.0</td>\n",
       "      <td>48.85691</td>\n",
       "      <td>2.36013</td>\n",
       "      <td>Paris</td>\n",
       "      <td>75004</td>\n",
       "      <td>Île-de-France</td>\n",
       "      <td>2</td>\n",
       "      <td>Entire home/apt</td>\n",
       "      <td>1.0</td>\n",
       "      <td>1.0</td>\n",
       "      <td>1.0</td>\n",
       "      <td>51.0</td>\n",
       "      <td>$25.00</td>\n",
       "      <td>$150.00</td>\n",
       "      <td>4</td>\n",
       "      <td>15</td>\n",
       "      <td>17</td>\n",
       "      <td>90.4</td>\n",
       "    </tr>\n",
       "  </tbody>\n",
       "</table>\n",
       "</div>"
      ],
      "text/plain": [
       "     host_response_rate  host_acceptance_rate  host_listings_count  latitude  \\\n",
       "4465                96%                   NaN                 28.0  48.89318   \n",
       "3154               100%                   NaN                  2.0  48.85114   \n",
       "1969                65%                   NaN                 93.0  48.85134   \n",
       "2713                NaN                   NaN                  1.0  48.87320   \n",
       "5578               100%                   NaN                  1.0  48.85691   \n",
       "\n",
       "      longitude   city zipcode           state  accommodates        room_type  \\\n",
       "4465    2.31884  Paris   75017  Paris province             2  Entire home/apt   \n",
       "3154    2.29728  Paris   75015   Île-de-France             5  Entire home/apt   \n",
       "1969    2.33359  Paris   75006   Île-de-France             3  Entire home/apt   \n",
       "2713    2.38649  Paris   75020   Île-de-France             4  Entire home/apt   \n",
       "5578    2.36013  Paris   75004   Île-de-France             2  Entire home/apt   \n",
       "\n",
       "      bedrooms  bathrooms  beds  price cleaning_fee security_deposit  \\\n",
       "4465       0.0        1.0   1.0   63.0      $100.00          $400.00   \n",
       "3154       1.0        1.0   4.0  120.0       $50.00          $200.00   \n",
       "1969       1.0        1.0   2.0  149.0       $60.00          $600.00   \n",
       "2713       2.0        1.0   1.0   79.0       $65.00          $299.00   \n",
       "5578       1.0        1.0   1.0   51.0       $25.00          $150.00   \n",
       "\n",
       "      minimum_nights  maximum_nights  number_of_reviews  predicted_price  \n",
       "4465              14             180                 61             90.4  \n",
       "3154               1             120                102            176.8  \n",
       "1969              30            1125                  5             96.2  \n",
       "2713               2            1125                  5            173.0  \n",
       "5578               4              15                 17             90.4  "
      ]
     },
     "execution_count": 2,
     "metadata": {},
     "output_type": "execute_result"
    }
   ],
   "source": [
    "test_df.head()"
   ]
  },
  {
   "cell_type": "code",
   "execution_count": 3,
   "metadata": {},
   "outputs": [],
   "source": [
    "test_df['error'] = np.absolute(test_df[\"predicted_price\"] - test_df[\"price\"])"
   ]
  },
  {
   "cell_type": "code",
   "execution_count": 7,
   "metadata": {},
   "outputs": [],
   "source": [
    "mae = test_df['error'].mean()"
   ]
  },
  {
   "cell_type": "code",
   "execution_count": 9,
   "metadata": {},
   "outputs": [
    {
     "data": {
      "text/plain": [
       "52.5621999999998"
      ]
     },
     "execution_count": 9,
     "metadata": {},
     "output_type": "execute_result"
    }
   ],
   "source": [
    "mae"
   ]
  },
  {
   "cell_type": "markdown",
   "metadata": {},
   "source": [
    "# ERREUR QUADRATIQUE MOYENNE"
   ]
  },
  {
   "cell_type": "code",
   "execution_count": 10,
   "metadata": {},
   "outputs": [],
   "source": [
    "test_df['quadratic error']=(test_df['price']-test_df['predicted_price'])**2"
   ]
  },
  {
   "cell_type": "code",
   "execution_count": 11,
   "metadata": {},
   "outputs": [],
   "source": [
    "mse = test_df['quadratic error'].mean()"
   ]
  },
  {
   "cell_type": "code",
   "execution_count": 12,
   "metadata": {},
   "outputs": [
    {
     "data": {
      "text/plain": [
       "6724.726040000068"
      ]
     },
     "execution_count": 12,
     "metadata": {},
     "output_type": "execute_result"
    }
   ],
   "source": [
    "mse"
   ]
  },
  {
   "cell_type": "code",
   "execution_count": 13,
   "metadata": {},
   "outputs": [
    {
     "data": {
      "text/plain": [
       "82.00442695367164"
      ]
     },
     "execution_count": 13,
     "metadata": {},
     "output_type": "execute_result"
    }
   ],
   "source": [
    "from math import *\n",
    "rmse = sqrt(mse)\n",
    "rmse"
   ]
  },
  {
   "cell_type": "markdown",
   "metadata": {},
   "source": [
    "# ENTRAINER UN AUTRE MODELE"
   ]
  },
  {
   "cell_type": "code",
   "execution_count": 14,
   "metadata": {},
   "outputs": [],
   "source": [
    "def predict_price(new_listing):\n",
    "    temp_df = train_df.copy()\n",
    "    temp_df['distance'] = temp_df['bedrooms'].apply(lambda x: np.abs(x - new_listing))\n",
    "    temp_df = temp_df.sort_values('distance')\n",
    "    nearest_neighbor_prices = temp_df.iloc[0:5]['price']\n",
    "    predicted_price = nearest_neighbor_prices.mean()\n",
    "    return(predicted_price)\n",
    "\n",
    "#test_df['predicted_price']=test.df['bedrooms'].apply(lambda x: predict_price(x))"
   ]
  },
  {
   "cell_type": "code",
   "execution_count": 15,
   "metadata": {},
   "outputs": [],
   "source": [
    "test_df['predicted_price']=test_df['bedrooms'].apply(predict_price)"
   ]
  },
  {
   "cell_type": "code",
   "execution_count": 16,
   "metadata": {},
   "outputs": [],
   "source": [
    "test_df['quadratic error']=(test_df['predicted_price']-test_df['price'])**2"
   ]
  },
  {
   "cell_type": "code",
   "execution_count": 17,
   "metadata": {},
   "outputs": [],
   "source": [
    "mse = test_df['quadratic error'].mean()"
   ]
  },
  {
   "cell_type": "code",
   "execution_count": 19,
   "metadata": {},
   "outputs": [
    {
     "data": {
      "text/plain": [
       "6281.181980000002"
      ]
     },
     "execution_count": 19,
     "metadata": {},
     "output_type": "execute_result"
    }
   ],
   "source": [
    "print(mse)"
   ]
  },
  {
   "cell_type": "markdown",
   "metadata": {},
   "source": [
    "# RACINE CARREE DE L'ERREUR QUADRATIQUE MOYENNE"
   ]
  },
  {
   "cell_type": "code",
   "execution_count": 20,
   "metadata": {},
   "outputs": [],
   "source": [
    "from math import *"
   ]
  },
  {
   "cell_type": "code",
   "execution_count": 21,
   "metadata": {},
   "outputs": [],
   "source": [
    "rmse=sqrt(mse)"
   ]
  },
  {
   "cell_type": "code",
   "execution_count": 22,
   "metadata": {},
   "outputs": [
    {
     "data": {
      "text/plain": [
       "79.25390829479643"
      ]
     },
     "execution_count": 22,
     "metadata": {},
     "output_type": "execute_result"
    }
   ],
   "source": [
    "rmse"
   ]
  },
  {
   "cell_type": "markdown",
   "metadata": {},
   "source": [
    "# Comparaison des erreurs"
   ]
  },
  {
   "cell_type": "code",
   "execution_count": 78,
   "metadata": {},
   "outputs": [],
   "source": [
    "errors_one = pd.Series([5, 10, 5, 10, 5, 10, 5, 10, 5, 10, 5, 10, 5, 10, 5, 10, 5, 10])\n",
    "errors_two = pd.Series([5, 10, 5, 10, 5, 10, 5, 10, 5, 10, 5, 10, 5, 10, 5, 10, 5, 1000])"
   ]
  },
  {
   "cell_type": "code",
   "execution_count": 94,
   "metadata": {},
   "outputs": [],
   "source": [
    "mae_one = errors_one.mean()"
   ]
  },
  {
   "cell_type": "code",
   "execution_count": 136,
   "metadata": {},
   "outputs": [],
   "source": [
    "s1 = np.mean(errors_one ** 2)\n",
    "rmse_one = sqrt(s1)"
   ]
  },
  {
   "cell_type": "code",
   "execution_count": 137,
   "metadata": {},
   "outputs": [
    {
     "data": {
      "text/plain": [
       "7.905694150420948"
      ]
     },
     "execution_count": 137,
     "metadata": {},
     "output_type": "execute_result"
    }
   ],
   "source": [
    "rmse_one"
   ]
  },
  {
   "cell_type": "code",
   "execution_count": 122,
   "metadata": {},
   "outputs": [
    {
     "data": {
      "text/plain": [
       "7.5"
      ]
     },
     "execution_count": 122,
     "metadata": {},
     "output_type": "execute_result"
    }
   ],
   "source": [
    "mae_one"
   ]
  },
  {
   "cell_type": "code",
   "execution_count": 123,
   "metadata": {},
   "outputs": [],
   "source": [
    "mae_two = errors_two.mean()"
   ]
  },
  {
   "cell_type": "code",
   "execution_count": 138,
   "metadata": {},
   "outputs": [],
   "source": [
    "s2 = np.mean(errors_two**2)\n",
    "rmse_two = sqrt(s2)"
   ]
  },
  {
   "cell_type": "code",
   "execution_count": 139,
   "metadata": {},
   "outputs": [
    {
     "data": {
      "text/plain": [
       "235.82302686548658"
      ]
     },
     "execution_count": 139,
     "metadata": {},
     "output_type": "execute_result"
    }
   ],
   "source": [
    "rmse_two"
   ]
  },
  {
   "cell_type": "code",
   "execution_count": 140,
   "metadata": {},
   "outputs": [
    {
     "data": {
      "text/plain": [
       "62.5"
      ]
     },
     "execution_count": 140,
     "metadata": {},
     "output_type": "execute_result"
    }
   ],
   "source": [
    "mae_two"
   ]
  },
  {
   "cell_type": "code",
   "execution_count": 129,
   "metadata": {},
   "outputs": [
    {
     "data": {
      "text/plain": [
       "0      25\n",
       "1     100\n",
       "2      25\n",
       "3     100\n",
       "4      25\n",
       "5     100\n",
       "6      25\n",
       "7     100\n",
       "8      25\n",
       "9     100\n",
       "10     25\n",
       "11    100\n",
       "12     25\n",
       "13    100\n",
       "14     25\n",
       "15    100\n",
       "16     25\n",
       "17    100\n",
       "dtype: int64"
      ]
     },
     "execution_count": 129,
     "metadata": {},
     "output_type": "execute_result"
    }
   ],
   "source": [
    "s1\n"
   ]
  },
  {
   "cell_type": "code",
   "execution_count": 133,
   "metadata": {},
   "outputs": [
    {
     "data": {
      "text/plain": [
       "0          25\n",
       "1         100\n",
       "2          25\n",
       "3         100\n",
       "4          25\n",
       "5         100\n",
       "6          25\n",
       "7         100\n",
       "8          25\n",
       "9         100\n",
       "10         25\n",
       "11        100\n",
       "12         25\n",
       "13        100\n",
       "14         25\n",
       "15        100\n",
       "16         25\n",
       "17    1000000\n",
       "dtype: int64"
      ]
     },
     "execution_count": 133,
     "metadata": {},
     "output_type": "execute_result"
    }
   ],
   "source": [
    "s2"
   ]
  },
  {
   "cell_type": "code",
   "execution_count": null,
   "metadata": {},
   "outputs": [],
   "source": []
  }
 ],
 "metadata": {
  "kernelspec": {
   "display_name": "Python 3",
   "language": "python",
   "name": "python3"
  },
  "language_info": {
   "codemirror_mode": {
    "name": "ipython",
    "version": 3
   },
   "file_extension": ".py",
   "mimetype": "text/x-python",
   "name": "python",
   "nbconvert_exporter": "python",
   "pygments_lexer": "ipython3",
   "version": "3.7.3"
  }
 },
 "nbformat": 4,
 "nbformat_minor": 2
}
