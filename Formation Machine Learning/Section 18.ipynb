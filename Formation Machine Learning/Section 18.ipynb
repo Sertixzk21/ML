{
 "cells": [
  {
   "cell_type": "markdown",
   "metadata": {},
   "source": [
    "# Introduction aux données"
   ]
  },
  {
   "cell_type": "code",
   "execution_count": 111,
   "metadata": {},
   "outputs": [
    {
     "data": {
      "text/html": [
       "<div>\n",
       "<style scoped>\n",
       "    .dataframe tbody tr th:only-of-type {\n",
       "        vertical-align: middle;\n",
       "    }\n",
       "\n",
       "    .dataframe tbody tr th {\n",
       "        vertical-align: top;\n",
       "    }\n",
       "\n",
       "    .dataframe thead th {\n",
       "        text-align: right;\n",
       "    }\n",
       "</style>\n",
       "<table border=\"1\" class=\"dataframe\">\n",
       "  <thead>\n",
       "    <tr style=\"text-align: right;\">\n",
       "      <th></th>\n",
       "      <th>mpg</th>\n",
       "      <th>cylinders</th>\n",
       "      <th>displacement</th>\n",
       "      <th>horsepower</th>\n",
       "      <th>weight</th>\n",
       "      <th>acceleration</th>\n",
       "      <th>model year</th>\n",
       "      <th>origin</th>\n",
       "      <th>car name</th>\n",
       "    </tr>\n",
       "  </thead>\n",
       "  <tbody>\n",
       "    <tr>\n",
       "      <th>0</th>\n",
       "      <td>18.0</td>\n",
       "      <td>8</td>\n",
       "      <td>307.0</td>\n",
       "      <td>130.0</td>\n",
       "      <td>3504.0</td>\n",
       "      <td>12.0</td>\n",
       "      <td>70</td>\n",
       "      <td>1</td>\n",
       "      <td>chevrolet chevelle malibu</td>\n",
       "    </tr>\n",
       "    <tr>\n",
       "      <th>1</th>\n",
       "      <td>15.0</td>\n",
       "      <td>8</td>\n",
       "      <td>350.0</td>\n",
       "      <td>165.0</td>\n",
       "      <td>3693.0</td>\n",
       "      <td>11.5</td>\n",
       "      <td>70</td>\n",
       "      <td>1</td>\n",
       "      <td>buick skylark 320</td>\n",
       "    </tr>\n",
       "    <tr>\n",
       "      <th>2</th>\n",
       "      <td>18.0</td>\n",
       "      <td>8</td>\n",
       "      <td>318.0</td>\n",
       "      <td>150.0</td>\n",
       "      <td>3436.0</td>\n",
       "      <td>11.0</td>\n",
       "      <td>70</td>\n",
       "      <td>1</td>\n",
       "      <td>plymouth satellite</td>\n",
       "    </tr>\n",
       "    <tr>\n",
       "      <th>3</th>\n",
       "      <td>16.0</td>\n",
       "      <td>8</td>\n",
       "      <td>304.0</td>\n",
       "      <td>150.0</td>\n",
       "      <td>3433.0</td>\n",
       "      <td>12.0</td>\n",
       "      <td>70</td>\n",
       "      <td>1</td>\n",
       "      <td>amc rebel sst</td>\n",
       "    </tr>\n",
       "    <tr>\n",
       "      <th>4</th>\n",
       "      <td>17.0</td>\n",
       "      <td>8</td>\n",
       "      <td>302.0</td>\n",
       "      <td>140.0</td>\n",
       "      <td>3449.0</td>\n",
       "      <td>10.5</td>\n",
       "      <td>70</td>\n",
       "      <td>1</td>\n",
       "      <td>ford torino</td>\n",
       "    </tr>\n",
       "  </tbody>\n",
       "</table>\n",
       "</div>"
      ],
      "text/plain": [
       "    mpg  cylinders  displacement  horsepower  weight  acceleration  \\\n",
       "0  18.0          8         307.0       130.0  3504.0          12.0   \n",
       "1  15.0          8         350.0       165.0  3693.0          11.5   \n",
       "2  18.0          8         318.0       150.0  3436.0          11.0   \n",
       "3  16.0          8         304.0       150.0  3433.0          12.0   \n",
       "4  17.0          8         302.0       140.0  3449.0          10.5   \n",
       "\n",
       "   model year  origin                   car name  \n",
       "0          70       1  chevrolet chevelle malibu  \n",
       "1          70       1          buick skylark 320  \n",
       "2          70       1         plymouth satellite  \n",
       "3          70       1              amc rebel sst  \n",
       "4          70       1                ford torino  "
      ]
     },
     "execution_count": 111,
     "metadata": {},
     "output_type": "execute_result"
    }
   ],
   "source": [
    "import pandas as pd\n",
    "pd.options.mode.chained_assignment = None\n",
    "\n",
    "columns = ['mpg', 'cylinders', 'displacement', 'horsepower', 'weight', 'acceleration',\n",
    "           'model year', 'origin', 'car name']\n",
    "\n",
    "cars = pd.read_csv('auto-mpg.data', delim_whitespace=True, names=columns)\n",
    "\n",
    "filtered_cars = cars[cars['horsepower'] != '?']\n",
    "filtered_cars['horsepower'] = filtered_cars['horsepower'].astype('float')\n",
    "\n",
    "filtered_cars.head()"
   ]
  },
  {
   "cell_type": "code",
   "execution_count": null,
   "metadata": {},
   "outputs": [],
   "source": []
  },
  {
   "cell_type": "markdown",
   "metadata": {},
   "source": [
    "# Fonction pour entrainer le modèle et calculer biais et variance"
   ]
  },
  {
   "cell_type": "code",
   "execution_count": 112,
   "metadata": {},
   "outputs": [],
   "source": [
    "import numpy as np\n",
    "from sklearn.linear_model import LinearRegression\n",
    "\n",
    "def train_and_test(cols):\n",
    "    model = LinearRegression()\n",
    "    model.fit(filtered_cars[cols], filtered_cars['mpg'])\n",
    "    predicted_values = model.predict(filtered_cars[cols])\n",
    "    variance = np.var(predicted_values)\n",
    "    mse = (filtered_cars['mpg'] - predicted_values)**2\n",
    "    mse = mse.mean()\n",
    "    return(mse,variance)\n",
    "\n",
    "cyl_mse, cyl_var = train_and_test(['cylinders']) \n",
    "\n",
    "weight_mse, weight_var =  train_and_test(['weight']) \n",
    "    \n",
    "    "
   ]
  },
  {
   "cell_type": "code",
   "execution_count": 113,
   "metadata": {},
   "outputs": [
    {
     "name": "stdout",
     "output_type": "stream",
     "text": [
      "24.02017956815553\n",
      "36.74255887416017\n",
      "18.6766165974193\n",
      "42.08612184489641\n"
     ]
    }
   ],
   "source": [
    "print(cyl_mse)\n",
    "print(cyl_var)\n",
    "print(weight_mse)\n",
    "print(weight_var)"
   ]
  },
  {
   "cell_type": "markdown",
   "metadata": {},
   "source": [
    "# Modèles multivariés"
   ]
  },
  {
   "cell_type": "code",
   "execution_count": 114,
   "metadata": {},
   "outputs": [
    {
     "name": "stdout",
     "output_type": "stream",
     "text": [
      "24.02017956815553 36.74255887416017\n",
      "21.282057055586364 39.480681386729316\n",
      "20.25295483971423 40.509783602601445\n",
      "17.76386057184384 42.99887787047185\n",
      "17.76139610540621 43.001342336909396\n",
      "11.59017098141523 49.172567460900346\n",
      "10.847480945000452 49.915257497315146\n"
     ]
    }
   ],
   "source": [
    "one_mse, one_var = train_and_test(['cylinders']) \n",
    "print(one_mse, one_var)\n",
    "two_mse, two_var = train_and_test(['cylinders','displacement'])\n",
    "print(two_mse, two_var)\n",
    "three_mse, three_var = train_and_test(['cylinders','displacement', 'horsepower'])\n",
    "print(three_mse, three_var)\n",
    "four_mse, four_var = train_and_test(['cylinders','displacement','horsepower','weight'])\n",
    "print(four_mse, four_var)\n",
    "five_mse, five_var = train_and_test(['cylinders','displacement','horsepower','weight','acceleration'])\n",
    "print(five_mse, five_var)\n",
    "six_mse, six_var = train_and_test(['cylinders','displacement','horsepower','weight','acceleration','model year'])\n",
    "print(six_mse, six_var)\n",
    "seven_mse, seven_var = train_and_test(['cylinders','displacement','horsepower','weight','acceleration','model year','origin'])\n",
    "print(seven_mse, seven_var)"
   ]
  },
  {
   "cell_type": "markdown",
   "metadata": {},
   "source": [
    "# Validation croisée"
   ]
  },
  {
   "cell_type": "code",
   "execution_count": 115,
   "metadata": {},
   "outputs": [],
   "source": [
    "from sklearn.model_selection import KFold\n",
    "from sklearn.metrics import mean_squared_error \n",
    "\n",
    "def train_and_cross_val(cols):\n",
    "    mse_values = []\n",
    "    var_values = []\n",
    "\n",
    "    model = LinearRegression()\n",
    "    kf = KFold(n_splits=10, shuffle=True, random_state=3)\n",
    "    \n",
    "    for train_index,test_index in kf.split(filtered_cars):\n",
    "        model.fit(filtered_cars.iloc[train_index][cols], filtered_cars.iloc[train_index]['mpg'])\n",
    "        predictions = model.predict(filtered_cars.iloc[test_index][cols])\n",
    "        mse = mean_squared_error(predictions, filtered_cars.iloc[test_index]['mpg'])\n",
    "        mse_values.append(mse)\n",
    "        variance = np.var(predictions)\n",
    "        var_values.append(variance)\n",
    "    \n",
    "    avg_mse = np.mean(mse_values)\n",
    "    avg_var = np.mean(var_values)\n",
    "        \n",
    "    return(avg_mse, avg_var)\n"
   ]
  },
  {
   "cell_type": "raw",
   "metadata": {},
   "source": [
    "# Solution du prof\n",
    "def train_and_cross_val(cols):\n",
    "    features = filtered_cars[cols]\n",
    "    target = filtered_cars['mpg']\n",
    "    \n",
    "    variance_values = []\n",
    "    mse_values = []\n",
    "    \n",
    "    kf = KFold(n_splits=10, shuffle=True, random_state=3)\n",
    "    \n",
    "    for train_index, test_index in kf.split(filtered_cars):\n",
    "        \n",
    "        X_train, X_test = features.iloc[train_index], features.iloc[test_index]\n",
    "        y_train, y_test = target.iloc[train_index], target.iloc[test_index]\n",
    "        \n",
    "        lr = LinearRegression()\n",
    "        lr.fit(X_train, y_train)\n",
    "        predictions = lr.predict(X_test)\n",
    "        \n",
    "        mse = mean_squared_error(y_test, predictions)\n",
    "        var = np.var(predictions)\n",
    "        \n",
    "        variance_values.append(var)\n",
    "        mse_values.append(mse)\n",
    "        \n",
    "        \n",
    "    avg_mse = np.mean(mse_values)\n",
    "    avg_var = np.mean(variance_values)\n",
    "    \n",
    "    return(avg_mse, avg_var)"
   ]
  },
  {
   "cell_type": "code",
   "execution_count": 116,
   "metadata": {},
   "outputs": [
    {
     "name": "stdout",
     "output_type": "stream",
     "text": [
      "21.584370274954374 38.902525313756016\n",
      "20.655622193882955 40.091287956606934\n",
      "18.169683239081884 42.50764364364439\n",
      "18.283038517172052 42.59873630014678\n",
      "12.099685425467118 48.92824696771803\n",
      "11.418131971812054 49.90431373098729\n"
     ]
    }
   ],
   "source": [
    "two_mse, two_var = train_and_cross_val(['cylinders','displacement'])\n",
    "print(two_mse, two_var)\n",
    "three_mse, three_var = train_and_cross_val(['cylinders','displacement', 'horsepower'])\n",
    "print(three_mse, three_var)\n",
    "four_mse, four_var = train_and_cross_val(['cylinders','displacement','horsepower','weight'])\n",
    "print(four_mse, four_var)\n",
    "five_mse, five_var = train_and_cross_val(['cylinders','displacement','horsepower','weight','acceleration'])\n",
    "print(five_mse, five_var)\n",
    "six_mse, six_var = train_and_cross_val(['cylinders','displacement','horsepower','weight','acceleration','model year'])\n",
    "print(six_mse, six_var)\n",
    "seven_mse, seven_var = train_and_cross_val(['cylinders','displacement','horsepower','weight','acceleration','model year','origin'])\n",
    "print(seven_mse, seven_var)"
   ]
  },
  {
   "cell_type": "markdown",
   "metadata": {},
   "source": [
    "# Graphique compromis erreur quadratique moyenne/variance"
   ]
  },
  {
   "cell_type": "code",
   "execution_count": 100,
   "metadata": {},
   "outputs": [
    {
     "data": {
      "text/plain": [
       "<matplotlib.collections.PathCollection at 0x1d0db8ade10>"
      ]
     },
     "execution_count": 100,
     "metadata": {},
     "output_type": "execute_result"
    },
    {
     "data": {
      "image/png": "[encoded data removed]",
      "text/plain": [
       "<Figure size 432x288 with 1 Axes>"
      ]
     },
     "metadata": {
      "needs_background": "light"
     },
     "output_type": "display_data"
    }
   ],
   "source": [
    "import matplotlib.pyplot as plt\n",
    "\n",
    "x_cara = [2,3,4,5,6,7]\n",
    "y_mse = [two_mse,three_mse,four_mse,five_mse,six_mse,seven_mse]\n",
    "y_var = [two_var,three_var,four_var,five_var,six_var,seven_var]\n",
    "\n",
    "\n",
    "plt.scatter(x_cara, y_mse,c='red')\n",
    "plt.scatter(x_cara, y_var,c='blue')\n"
   ]
  },
  {
   "cell_type": "code",
   "execution_count": null,
   "metadata": {},
   "outputs": [],
   "source": []
  }
 ],
 "metadata": {
  "kernelspec": {
   "display_name": "Python 3",
   "language": "python",
   "name": "python3"
  },
  "language_info": {
   "codemirror_mode": {
    "name": "ipython",
    "version": 3
   },
   "file_extension": ".py",
   "mimetype": "text/x-python",
   "name": "python",
   "nbconvert_exporter": "python",
   "pygments_lexer": "ipython3",
   "version": "3.7.3"
  }
 },
 "nbformat": 4,
 "nbformat_minor": 2
}
