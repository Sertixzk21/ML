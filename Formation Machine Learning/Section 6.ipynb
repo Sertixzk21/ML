{
 "cells": [
  {
   "cell_type": "markdown",
   "metadata": {},
   "source": [
    "# Optimisation hyper paramétrique"
   ]
  },
  {
   "cell_type": "code",
   "execution_count": 1,
   "metadata": {},
   "outputs": [],
   "source": [
    "import numpy as np\n",
    "import pandas as pd\n",
    "from sklearn.neighbors import KNeighborsRegressor\n",
    "from math import *\n",
    "from sklearn.metrics import mean_squared_error"
   ]
  },
  {
   "cell_type": "code",
   "execution_count": 2,
   "metadata": {},
   "outputs": [],
   "source": [
    "train_df = pd.read_csv('paris_airbnb_train.csv')\n",
    "test_df = pd.read_csv('paris_airbnb_test.csv')"
   ]
  },
  {
   "cell_type": "code",
   "execution_count": 3,
   "metadata": {},
   "outputs": [],
   "source": [
    "hyper_params = [i for i in range(1,5)]"
   ]
  },
  {
   "cell_type": "code",
   "execution_count": 4,
   "metadata": {},
   "outputs": [],
   "source": [
    "mse_values = list() # ou mse_values = []\n",
    "columns = ['accommodates', 'bedrooms', 'bathrooms', 'number_of_reviews']"
   ]
  },
  {
   "cell_type": "code",
   "execution_count": 5,
   "metadata": {},
   "outputs": [],
   "source": [
    "for i in hyper_params:\n",
    "    knn = KNeighborsRegressor(n_neighbors = i, algorithm='brute')\n",
    "    knn.fit(train_df[columns], train_df['price'])\n",
    "    predictions = knn.predict(test_df[columns])\n",
    "    mse = mean_squared_error(test_df['price'], predictions)\n",
    "    mse_values.append(mse)"
   ]
  },
  {
   "cell_type": "code",
   "execution_count": 6,
   "metadata": {},
   "outputs": [
    {
     "name": "stdout",
     "output_type": "stream",
     "text": [
      "[9817.323943661971, 7002.631324986959, 5907.894742943257, 5661.341223265519]\n"
     ]
    }
   ],
   "source": [
    "print(mse_values)"
   ]
  },
  {
   "cell_type": "markdown",
   "metadata": {},
   "source": [
    "# Elargir la grille de recherche"
   ]
  },
  {
   "cell_type": "code",
   "execution_count": 7,
   "metadata": {},
   "outputs": [],
   "source": [
    "hyper_params = [i for i in range(1,60)]\n",
    "mse_values = list() # ou mse_values = []\n",
    "columns = ['accommodates', 'bedrooms', 'bathrooms', 'number_of_reviews']"
   ]
  },
  {
   "cell_type": "code",
   "execution_count": 8,
   "metadata": {},
   "outputs": [],
   "source": [
    "for i in hyper_params:\n",
    "    knn = KNeighborsRegressor(n_neighbors = i, algorithm='brute')\n",
    "    knn.fit(train_df[columns], train_df['price'])\n",
    "    predictions = knn.predict(test_df[columns])\n",
    "    mse = mean_squared_error(test_df['price'], predictions)\n",
    "    mse_values.append(mse)"
   ]
  },
  {
   "cell_type": "code",
   "execution_count": 9,
   "metadata": {},
   "outputs": [
    {
     "name": "stdout",
     "output_type": "stream",
     "text": [
      "[9817.323943661971, 7002.631324986959, 5907.894742943257, 5661.341223265519, 5417.664287949922, 5418.813481713325, 5247.059659544569, 5170.334042449139, 6528.348486897609, 6202.626953573291, 5965.656544100846, 5873.992349156668, 5751.721544696626, 5623.250013307358, 5531.67691879673, 5434.749519105373, 5390.129792983197, 5362.932261378053, 5267.722446921191, 5244.954955659886, 5236.744736496582, 5204.820291045323, 5224.870032630144, 5167.27829127543, 5138.799817214398, 5070.933075441472, 5053.942998641138, 5058.67444481705, 5033.274029786682, 4993.322969338666, 4999.006861766428, 4972.459228388269, 4960.304749970421, 4930.386004028786, 4942.974229291091, 4933.838639173864, 4951.927382273785, 4959.470553236315, 4941.431895044752, 4930.557633346374, 4919.229180534106, 4920.038364519864, 4888.856479541874, 4881.809930827697, 4878.09661417982, 4867.586865307226, 4878.6290923955285, 4880.843236728757, 4875.086292943929, 4883.599426604069, 4888.731776249937, 4869.749983794946, 4858.346301189651, 4853.628472199861, 4854.875277055661, 4856.244114821202, 4850.956887019368, 4848.211829106493, 4861.2097690465735]\n"
     ]
    }
   ],
   "source": [
    "print(mse_values)"
   ]
  },
  {
   "cell_type": "code",
   "execution_count": 10,
   "metadata": {},
   "outputs": [
    {
     "name": "stdout",
     "output_type": "stream",
     "text": [
      "4848.211829106493\n"
     ]
    }
   ],
   "source": [
    "print(min(mse_values))"
   ]
  },
  {
   "cell_type": "markdown",
   "metadata": {},
   "source": [
    "# Visualiser les valeurs des hyper paramètres"
   ]
  },
  {
   "cell_type": "code",
   "execution_count": 11,
   "metadata": {},
   "outputs": [],
   "source": [
    "import matplotlib.pyplot as plt\n",
    "%matplotlib inline \n",
    "\n",
    "hyper_params = [i for i in range(9,300)]\n",
    "mse_values = list() # ou mse_values = []\n",
    "\n",
    "for i in hyper_params:\n",
    "    knn = KNeighborsRegressor(n_neighbors = i, algorithm='brute')\n",
    "    knn.fit(train_df[columns], train_df['price'])\n",
    "    predictions = knn.predict(test_df[columns])\n",
    "    mse = mean_squared_error(test_df['price'], predictions)\n",
    "    mse_values.append(mse)"
   ]
  },
  {
   "cell_type": "code",
   "execution_count": 12,
   "metadata": {},
   "outputs": [
    {
     "data": {
      "image/png": "[encoded data removed]",
      "text/plain": [
       "<Figure size 432x288 with 1 Axes>"
      ]
     },
     "metadata": {
      "needs_background": "light"
     },
     "output_type": "display_data"
    }
   ],
   "source": [
    "plt.scatter(hyper_params, mse_values)\n",
    "plt.show()"
   ]
  },
  {
   "cell_type": "code",
   "execution_count": 15,
   "metadata": {},
   "outputs": [],
   "source": []
  },
  {
   "cell_type": "markdown",
   "metadata": {},
   "source": [
    "# Varier les caractéristiques et les hyper paramètres"
   ]
  },
  {
   "cell_type": "code",
   "execution_count": 13,
   "metadata": {},
   "outputs": [],
   "source": [
    "hyper_params = [i for i in range(1,100)]\n",
    "mse_values = list() # ou mse_values = []\n",
    "columns = train_df.columns.tolist()\n",
    "columns.remove('price')\n",
    "\n",
    "for i in hyper_params:\n",
    "    knn = KNeighborsRegressor(n_neighbors = i, algorithm='brute')\n",
    "    knn.fit(train_df[columns], train_df['price'])\n",
    "    predictions = knn.predict(test_df[columns])\n",
    "    mse = mean_squared_error(test_df['price'], predictions)\n",
    "    mse_values.append(mse)"
   ]
  },
  {
   "cell_type": "code",
   "execution_count": 14,
   "metadata": {},
   "outputs": [
    {
     "data": {
      "image/png": "[encoded data removed]",
      "text/plain": [
       "<Figure size 432x288 with 1 Axes>"
      ]
     },
     "metadata": {
      "needs_background": "light"
     },
     "output_type": "display_data"
    }
   ],
   "source": [
    "plt.scatter(hyper_params, mse_values)\n",
    "plt.show()"
   ]
  },
  {
   "cell_type": "code",
   "execution_count": 15,
   "metadata": {},
   "outputs": [
    {
     "name": "stdout",
     "output_type": "stream",
     "text": [
      "8631.118014378913\n"
     ]
    }
   ],
   "source": [
    "print(min(mse_values))"
   ]
  },
  {
   "cell_type": "markdown",
   "metadata": {},
   "source": [
    "# Pratiquer le workflow"
   ]
  },
  {
   "cell_type": "code",
   "execution_count": 41,
   "metadata": {},
   "outputs": [
    {
     "name": "stdout",
     "output_type": "stream",
     "text": [
      "4948.546816114567\n"
     ]
    }
   ],
   "source": [
    "import numpy as np\n",
    "import pandas as pd\n",
    "from sklearn.neighbors import KNeighborsRegressor\n",
    "from math import *\n",
    "from sklearn.metrics import mean_squared_error\n",
    "\n",
    "hyper_params = [i for i in range(1,100)]\n",
    "columns = ['accommodates', 'bathrooms']\n",
    "two_mse_values = list()\n",
    "\n",
    "for i in hyper_params:\n",
    "    knn = KNeighborsRegressor(n_neighbors = i, algorithm='brute')\n",
    "    knn.fit(train_df[columns], train_df['price'])\n",
    "    predictions = knn.predict(test_df[columns])\n",
    "    two_mse = mean_squared_error(test_df['price'], predictions)\n",
    "    two_mse_values.append(two_mse)\n",
    "    \n",
    "print(min(two_mse_values))\n",
    "\n",
    "for k, two_mse in enumerate(two_mse_values):\n",
    "    if (two_mse == min(two_mse_values)):\n",
    "        value = k+1\n",
    "\n",
    "two_hp_mse = dict()\n",
    "two_hp_mse[value] = min(two_mse_values)\n",
    "    "
   ]
  },
  {
   "cell_type": "code",
   "execution_count": 33,
   "metadata": {},
   "outputs": [
    {
     "data": {
      "text/plain": [
       "{93: 4948.546816114567}"
      ]
     },
     "execution_count": 33,
     "metadata": {},
     "output_type": "execute_result"
    }
   ],
   "source": [
    "two_hp_mse"
   ]
  },
  {
   "cell_type": "code",
   "execution_count": 34,
   "metadata": {},
   "outputs": [
    {
     "name": "stdout",
     "output_type": "stream",
     "text": [
      "4948.546816114567\n"
     ]
    }
   ],
   "source": [
    "print(min(two_mse_values))"
   ]
  },
  {
   "cell_type": "code",
   "execution_count": 38,
   "metadata": {},
   "outputs": [
    {
     "name": "stdout",
     "output_type": "stream",
     "text": [
      "4902.640327672482\n"
     ]
    }
   ],
   "source": [
    "hyper_params = [i for i in range(1,100)]\n",
    "columns = ['accommodates', 'bathrooms', 'bedrooms']\n",
    "three_mse_values = list()\n",
    "\n",
    "for i in hyper_params:\n",
    "    knn = KNeighborsRegressor(n_neighbors = i, algorithm='brute')\n",
    "    knn.fit(train_df[columns], train_df['price'])\n",
    "    predictions = knn.predict(test_df[columns])\n",
    "    three_mse = mean_squared_error(test_df['price'], predictions)\n",
    "    three_mse_values.append(three_mse)\n",
    "    \n",
    "print(min(three_mse_values))\n",
    "\n",
    "for k, three_mse in enumerate(three_mse_values):\n",
    "    if (three_mse == min(three_mse_values)):\n",
    "        value = k+1\n",
    "\n",
    "three_hp_mse = dict()\n",
    "three_hp_mse[value] = min(three_mse_values)\n",
    "    "
   ]
  },
  {
   "cell_type": "code",
   "execution_count": 39,
   "metadata": {},
   "outputs": [
    {
     "data": {
      "text/plain": [
       "{89: 4902.640327672482}"
      ]
     },
     "execution_count": 39,
     "metadata": {},
     "output_type": "execute_result"
    }
   ],
   "source": [
    "three_hp_mse"
   ]
  },
  {
   "cell_type": "code",
   "execution_count": null,
   "metadata": {},
   "outputs": [],
   "source": []
  }
 ],
 "metadata": {
  "kernelspec": {
   "display_name": "Python 3",
   "language": "python",
   "name": "python3"
  },
  "language_info": {
   "codemirror_mode": {
    "name": "ipython",
    "version": 3
   },
   "file_extension": ".py",
   "mimetype": "text/x-python",
   "name": "python",
   "nbconvert_exporter": "python",
   "pygments_lexer": "ipython3",
   "version": "3.7.3"
  }
 },
 "nbformat": 4,
 "nbformat_minor": 2
}
