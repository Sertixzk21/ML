{
 "cells": [
  {
   "cell_type": "markdown",
   "metadata": {},
   "source": [
    "# Introduction"
   ]
  },
  {
   "cell_type": "code",
   "execution_count": 47,
   "metadata": {},
   "outputs": [],
   "source": [
    "import numpy as np\n",
    "import pandas as pd\n",
    "from sklearn.neighbors import KNeighborsRegressor\n",
    "pd.options.mode.chained_assignment = None\n",
    "from math import *\n",
    "from sklearn.metrics import mean_squared_error\n",
    "np.random.seed(1)"
   ]
  },
  {
   "cell_type": "code",
   "execution_count": 48,
   "metadata": {},
   "outputs": [],
   "source": [
    "paris_listings = pd.read_csv('paris_airbnb.csv') "
   ]
  },
  {
   "cell_type": "code",
   "execution_count": 49,
   "metadata": {},
   "outputs": [],
   "source": [
    "stripped = paris_listings['price'].str.replace(',','').str.replace('$','')\n",
    "paris_listings['price']=stripped.astype(float)"
   ]
  },
  {
   "cell_type": "code",
   "execution_count": 50,
   "metadata": {},
   "outputs": [],
   "source": [
    "shuffled_index = np.random.permutation(paris_listings.index)"
   ]
  },
  {
   "cell_type": "code",
   "execution_count": 51,
   "metadata": {},
   "outputs": [],
   "source": [
    "paris_listings = paris_listings.reindex(shuffled_index)"
   ]
  },
  {
   "cell_type": "code",
   "execution_count": 52,
   "metadata": {},
   "outputs": [],
   "source": [
    "split_one = paris_listings.iloc[0:4000]\n",
    "split_two = paris_listings.iloc[4000:]"
   ]
  },
  {
   "cell_type": "markdown",
   "metadata": {},
   "source": [
    "# Validation croisée Holdout"
   ]
  },
  {
   "cell_type": "markdown",
   "metadata": {},
   "source": [
    "#### model one"
   ]
  },
  {
   "cell_type": "code",
   "execution_count": 53,
   "metadata": {},
   "outputs": [],
   "source": [
    "knn_one = KNeighborsRegressor(n_neighbors = 5, algorithm='auto')"
   ]
  },
  {
   "cell_type": "code",
   "execution_count": 54,
   "metadata": {},
   "outputs": [],
   "source": [
    "train_one = split_one\n",
    "test_one = split_two\n",
    "train_two = split_two\n",
    "test_two = split_one"
   ]
  },
  {
   "cell_type": "code",
   "execution_count": 55,
   "metadata": {},
   "outputs": [],
   "source": [
    "knn_one.fit(train_one[['accommodates']], train_one['price'])\n",
    "prediction_one = knn_one.predict(test_one[['accommodates']])"
   ]
  },
  {
   "cell_type": "code",
   "execution_count": 56,
   "metadata": {},
   "outputs": [],
   "source": [
    "mse_one = mean_squared_error(test_one['price'], prediction_one)"
   ]
  },
  {
   "cell_type": "code",
   "execution_count": 57,
   "metadata": {},
   "outputs": [],
   "source": [
    "iteration_one_rmse = sqrt(mse_one)"
   ]
  },
  {
   "cell_type": "markdown",
   "metadata": {},
   "source": [
    "#### Model two"
   ]
  },
  {
   "cell_type": "code",
   "execution_count": 58,
   "metadata": {},
   "outputs": [],
   "source": [
    "knn_two = KNeighborsRegressor(n_neighbors = 5, algorithm='auto')"
   ]
  },
  {
   "cell_type": "code",
   "execution_count": 59,
   "metadata": {},
   "outputs": [],
   "source": [
    "knn_two.fit(train_two[['accommodates']], train_two['price'])\n",
    "prediction_two = knn_two.predict(test_two[['accommodates']])\n",
    "mse_two = mean_squared_error(test_two['price'], prediction_two)\n",
    "iteration_two_rmse = sqrt(mse_two)"
   ]
  },
  {
   "cell_type": "code",
   "execution_count": 60,
   "metadata": {},
   "outputs": [],
   "source": [
    "data = [iteration_one_rmse, iteration_two_rmse]\n",
    "avg_rmse=np.mean(data)"
   ]
  },
  {
   "cell_type": "code",
   "execution_count": 61,
   "metadata": {},
   "outputs": [
    {
     "data": {
      "text/plain": [
       "102.07284610848862"
      ]
     },
     "execution_count": 61,
     "metadata": {},
     "output_type": "execute_result"
    }
   ],
   "source": [
    "avg_rmse"
   ]
  },
  {
   "cell_type": "code",
   "execution_count": 62,
   "metadata": {},
   "outputs": [
    {
     "name": "stdout",
     "output_type": "stream",
     "text": [
      "88.96592437557203 115.17976784140521\n"
     ]
    }
   ],
   "source": [
    "print(iteration_one_rmse, iteration_two_rmse)"
   ]
  },
  {
   "cell_type": "markdown",
   "metadata": {},
   "source": [
    "# Validation croisée des K-Fold"
   ]
  },
  {
   "cell_type": "code",
   "execution_count": 63,
   "metadata": {},
   "outputs": [],
   "source": [
    "paris_listings['fold']=0\n",
    "paris_listings['fold'].iloc[0:1600]=1\n",
    "paris_listings['fold'].iloc[1600:3200]=2\n",
    "paris_listings['fold'].iloc[3200:4800]=3\n",
    "paris_listings['fold'].iloc[4800:6400]=4\n",
    "paris_listings['fold'].iloc[6400:8000]=5"
   ]
  },
  {
   "cell_type": "code",
   "execution_count": 64,
   "metadata": {},
   "outputs": [
    {
     "name": "stdout",
     "output_type": "stream",
     "text": [
      "3    1600\n",
      "2    1600\n",
      "5    1600\n",
      "1    1600\n",
      "4    1600\n",
      "Name: fold, dtype: int64\n"
     ]
    }
   ],
   "source": [
    "print(paris_listings['fold'].value_counts())"
   ]
  },
  {
   "cell_type": "markdown",
   "metadata": {},
   "source": [
    "# Première itération"
   ]
  },
  {
   "cell_type": "code",
   "execution_count": 67,
   "metadata": {},
   "outputs": [],
   "source": [
    "knn = KNeighborsRegressor()"
   ]
  },
  {
   "cell_type": "code",
   "execution_count": 69,
   "metadata": {},
   "outputs": [
    {
     "name": "stdout",
     "output_type": "stream",
     "text": [
      "81.94523308283405\n"
     ]
    }
   ],
   "source": [
    "train_iteration_one = paris_listings[paris_listings['fold']!=1]\n",
    "test_iteration_one = paris_listings[paris_listings['fold']==1]\n",
    "knn.fit(train_iteration_one[['accommodates']], train_iteration_one['price'])\n",
    "labels = knn.predict(test_iteration_one[['accommodates']])\n",
    "\n",
    "iteration_one_rmse=sqrt(mean_squared_error(test_iteration_one['price'], labels))\n",
    "print(iteration_one_rmse)"
   ]
  },
  {
   "cell_type": "code",
   "execution_count": null,
   "metadata": {},
   "outputs": [],
   "source": []
  },
  {
   "cell_type": "markdown",
   "metadata": {},
   "source": [
    "# Fonction pour entrainer des modèles"
   ]
  },
  {
   "cell_type": "code",
   "execution_count": 91,
   "metadata": {},
   "outputs": [],
   "source": [
    "fold_ids = [1,2,3,4,5]\n",
    "\n",
    "def train_and_validate(df, folds):\n",
    "    fold_rmses = []\n",
    "    for n in folds:\n",
    "        knn=KNeighborsRegressor()\n",
    "        train_iteration = df[df['fold']!=n]\n",
    "        test_iteration = df[df['fold']==n]\n",
    "        knn.fit(train_iteration[['accommodates']], train_iteration['price'])\n",
    "        prediction = knn.predict(test_iteration[['accommodates']])\n",
    "        rmse = sqrt(mean_squared_error(test_iteration['price'], prediction))\n",
    "        fold_rmses.append(rmse)\n",
    "    return (fold_rmses)\n"
   ]
  },
  {
   "cell_type": "code",
   "execution_count": 94,
   "metadata": {},
   "outputs": [
    {
     "name": "stdout",
     "output_type": "stream",
     "text": [
      "[81.94523308283405, 156.1902075995803, 72.58622217749041, 99.10605291807357, 83.16789539840478]\n",
      "98.59912223527662\n"
     ]
    }
   ],
   "source": [
    "rmses = train_and_validate(paris_listings, fold_ids)\n",
    "avg_rmse = np.mean(rmses)\n",
    "\n",
    "print(rmses)\n",
    "print(avg_rmse)"
   ]
  },
  {
   "cell_type": "code",
   "execution_count": null,
   "metadata": {},
   "outputs": [],
   "source": []
  },
  {
   "cell_type": "markdown",
   "metadata": {},
   "source": [
    "# Executer une validation croisée des K-Fold en utilisant Scikit-Learn"
   ]
  },
  {
   "cell_type": "code",
   "execution_count": 108,
   "metadata": {},
   "outputs": [],
   "source": [
    "from sklearn.model_selection import KFold\n",
    "kf = KFold(5, shuffle=True, random_state=1)\n",
    "\n",
    "knn = KNeighborsRegressor()\n",
    "\n",
    "from sklearn.model_selection import cross_val_score\n",
    "mses = cross_val_score(knn, paris_listings[['accommodates']], paris_listings['price'], scoring='neg_mean_squared_error', cv=kf)\n",
    "\n",
    "avg_rmse = abs(mses)\n",
    "avg_rmse = np.sqrt(avg_rmse)\n",
    "avg_rmse = np.mean(avg_rmse)"
   ]
  },
  {
   "cell_type": "code",
   "execution_count": 109,
   "metadata": {},
   "outputs": [
    {
     "data": {
      "text/plain": [
       "98.26413709965395"
      ]
     },
     "execution_count": 109,
     "metadata": {},
     "output_type": "execute_result"
    }
   ],
   "source": [
    "avg_rmse"
   ]
  },
  {
   "cell_type": "code",
   "execution_count": 107,
   "metadata": {},
   "outputs": [
    {
     "data": {
      "text/plain": [
       "array([ -5683.678775,  -6180.884725,  -8394.137675,  -7635.3341  ,\n",
       "       -25062.68305 ])"
      ]
     },
     "execution_count": 107,
     "metadata": {},
     "output_type": "execute_result"
    }
   ],
   "source": [
    "mses"
   ]
  },
  {
   "cell_type": "code",
   "execution_count": null,
   "metadata": {},
   "outputs": [],
   "source": []
  }
 ],
 "metadata": {
  "kernelspec": {
   "display_name": "Python 3",
   "language": "python",
   "name": "python3"
  },
  "language_info": {
   "codemirror_mode": {
    "name": "ipython",
    "version": 3
   },
   "file_extension": ".py",
   "mimetype": "text/x-python",
   "name": "python",
   "nbconvert_exporter": "python",
   "pygments_lexer": "ipython3",
   "version": "3.7.3"
  }
 },
 "nbformat": 4,
 "nbformat_minor": 2
}
